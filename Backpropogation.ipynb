{
 "cells": [
  {
   "cell_type": "code",
   "execution_count": 7,
   "id": "c62d6145",
   "metadata": {},
   "outputs": [],
   "source": [
    "import torch"
   ]
  },
  {
   "cell_type": "markdown",
   "id": "8b0751e0",
   "metadata": {},
   "source": [
    "### simple backpropogation example"
   ]
  },
  {
   "cell_type": "code",
   "execution_count": 8,
   "id": "864caaca",
   "metadata": {},
   "outputs": [],
   "source": [
    "x = torch.tensor(1.0)\n",
    "y = torch.tensor(2.0)\n",
    "w = torch.tensor(1.0,requires_grad=True)"
   ]
  },
  {
   "cell_type": "code",
   "execution_count": 9,
   "id": "191e0844",
   "metadata": {},
   "outputs": [
    {
     "name": "stdout",
     "output_type": "stream",
     "text": [
      "tensor(1., grad_fn=<PowBackward0>)\n"
     ]
    }
   ],
   "source": [
    "#forward pass and compute loss\n",
    "y_hat = w*x\n",
    "loss = (y_hat-y)**2\n",
    "print(loss)"
   ]
  },
  {
   "cell_type": "code",
   "execution_count": 10,
   "id": "9dbbef3a",
   "metadata": {},
   "outputs": [
    {
     "name": "stdout",
     "output_type": "stream",
     "text": [
      "tensor(-2.)\n"
     ]
    }
   ],
   "source": [
    "#backward pass\n",
    "loss.backward()\n",
    "print(w.grad)"
   ]
  },
  {
   "cell_type": "markdown",
   "id": "e8732876",
   "metadata": {},
   "source": [
    "## Gradient Descent"
   ]
  },
  {
   "cell_type": "code",
   "execution_count": 21,
   "id": "668a400e",
   "metadata": {},
   "outputs": [],
   "source": [
    "import numpy as np\n",
    "# f = w*x\n",
    "#f = 2*x\n",
    "x = np.array([1,2,3,4],dtype=np.float32)\n",
    "y = np.array([2,4,6,8],dtype=np.float32)\n",
    "w = 0.0"
   ]
  },
  {
   "cell_type": "code",
   "execution_count": 22,
   "id": "7c6d878f",
   "metadata": {},
   "outputs": [],
   "source": [
    "#model prediction\n",
    "def forward(x):\n",
    "    return w*x\n",
    "#loss\n",
    "def loss(y,y_pred):\n",
    "    return ((y_pred-y)**2).mean()\n",
    "#gradient\n",
    "def gradient(x,y,y_pred):\n",
    "    return np.dot(2*x,y_pred-y).mean()"
   ]
  },
  {
   "cell_type": "code",
   "execution_count": 23,
   "id": "bc6a6a05",
   "metadata": {},
   "outputs": [
    {
     "name": "stdout",
     "output_type": "stream",
     "text": [
      "Prediction before training : f(5) = 0.0\n"
     ]
    }
   ],
   "source": [
    "print(f\"Prediction before training : f(5) = {forward(5)}\")"
   ]
  },
  {
   "cell_type": "code",
   "execution_count": 25,
   "id": "d2c906e3",
   "metadata": {},
   "outputs": [
    {
     "name": "stdout",
     "output_type": "stream",
     "text": [
      "Epoch : 1 , weights = 2.000 , loss = 0.00000000\n",
      "Epoch : 2 , weights = 2.000 , loss = 0.00000000\n",
      "Epoch : 3 , weights = 2.000 , loss = 0.00000000\n",
      "Epoch : 4 , weights = 2.000 , loss = 0.00000000\n",
      "Epoch : 5 , weights = 2.000 , loss = 0.00000000\n",
      "Epoch : 6 , weights = 2.000 , loss = 0.00000000\n",
      "Epoch : 7 , weights = 2.000 , loss = 0.00000000\n",
      "Epoch : 8 , weights = 2.000 , loss = 0.00000000\n",
      "Epoch : 9 , weights = 2.000 , loss = 0.00000000\n",
      "Epoch : 10 , weights = 2.000 , loss = 0.00000000\n",
      "Epoch : 11 , weights = 2.000 , loss = 0.00000000\n",
      "Epoch : 12 , weights = 2.000 , loss = 0.00000000\n",
      "Epoch : 13 , weights = 2.000 , loss = 0.00000000\n",
      "Epoch : 14 , weights = 2.000 , loss = 0.00000000\n",
      "Epoch : 15 , weights = 2.000 , loss = 0.00000000\n",
      "Prediction after training : f(5) = 9.99999977350235\n"
     ]
    }
   ],
   "source": [
    "#training\n",
    "lr = 0.01\n",
    "epochs  = 15\n",
    "for epoch in range(epochs):\n",
    "    #prediction = forward pass\n",
    "    y_pred = forward(x)\n",
    "    l = loss(y,y_pred)\n",
    "    dw = gradient(x,y,y_pred)\n",
    "    #update weights\n",
    "    w -= lr*dw\n",
    "    print(f\"Epoch : {epoch+1} , weights = {w:.3f} , loss = {l:.8f}\")\n",
    "\n",
    "print(f\"Prediction after training : f(5) = {forward(5)}\")"
   ]
  },
  {
   "cell_type": "markdown",
   "id": "ac949460",
   "metadata": {},
   "source": [
    "## Gradient descent with pytorch"
   ]
  },
  {
   "cell_type": "code",
   "execution_count": 34,
   "id": "8a7ab209",
   "metadata": {},
   "outputs": [],
   "source": [
    "x = torch.tensor([1,2,3,4],dtype=torch.float32)\n",
    "y = torch.tensor([2,4,6,8],dtype=torch.float32)\n",
    "w = torch.tensor(0.0,dtype=torch.float32,requires_grad=True)"
   ]
  },
  {
   "cell_type": "code",
   "execution_count": 35,
   "id": "ad9f7b4d",
   "metadata": {},
   "outputs": [],
   "source": [
    "#model prediction\n",
    "def forward(x):\n",
    "    return w*x\n",
    "#loss\n",
    "def loss(y,y_pred):\n",
    "    return ((y_pred-y)**2).mean()"
   ]
  },
  {
   "cell_type": "code",
   "execution_count": 36,
   "id": "e6620fc6",
   "metadata": {},
   "outputs": [
    {
     "name": "stdout",
     "output_type": "stream",
     "text": [
      "Epoch : 1 , weights = 0.300 , loss = 30.00000000\n",
      "Epoch : 2 , weights = 0.555 , loss = 21.67499924\n",
      "Epoch : 3 , weights = 0.772 , loss = 15.66018772\n",
      "Epoch : 4 , weights = 0.956 , loss = 11.31448650\n",
      "Epoch : 5 , weights = 1.113 , loss = 8.17471695\n",
      "Epoch : 6 , weights = 1.246 , loss = 5.90623236\n",
      "Epoch : 7 , weights = 1.359 , loss = 4.26725292\n",
      "Epoch : 8 , weights = 1.455 , loss = 3.08308983\n",
      "Epoch : 9 , weights = 1.537 , loss = 2.22753215\n",
      "Epoch : 10 , weights = 1.606 , loss = 1.60939169\n",
      "Epoch : 11 , weights = 1.665 , loss = 1.16278565\n",
      "Epoch : 12 , weights = 1.716 , loss = 0.84011245\n",
      "Epoch : 13 , weights = 1.758 , loss = 0.60698116\n",
      "Epoch : 14 , weights = 1.794 , loss = 0.43854395\n",
      "Epoch : 15 , weights = 1.825 , loss = 0.31684780\n",
      "Epoch : 16 , weights = 1.851 , loss = 0.22892261\n",
      "Epoch : 17 , weights = 1.874 , loss = 0.16539653\n",
      "Epoch : 18 , weights = 1.893 , loss = 0.11949898\n",
      "Epoch : 19 , weights = 1.909 , loss = 0.08633806\n",
      "Epoch : 20 , weights = 1.922 , loss = 0.06237914\n",
      "Epoch : 21 , weights = 1.934 , loss = 0.04506890\n",
      "Epoch : 22 , weights = 1.944 , loss = 0.03256231\n",
      "Epoch : 23 , weights = 1.952 , loss = 0.02352631\n",
      "Epoch : 24 , weights = 1.960 , loss = 0.01699772\n",
      "Epoch : 25 , weights = 1.966 , loss = 0.01228084\n",
      "Epoch : 26 , weights = 1.971 , loss = 0.00887291\n",
      "Epoch : 27 , weights = 1.975 , loss = 0.00641066\n",
      "Epoch : 28 , weights = 1.979 , loss = 0.00463169\n",
      "Prediction after training : f(5) = 9.894384384155273\n"
     ]
    }
   ],
   "source": [
    "#training\n",
    "lr = 0.01\n",
    "epochs  = 28\n",
    "for epoch in range(epochs):\n",
    "    #prediction = forward pass\n",
    "    y_pred = forward(x)\n",
    "    l = loss(y,y_pred)\n",
    "    l.backward()\n",
    "    #update weights\n",
    "    with torch.no_grad():\n",
    "        w -= lr*w.grad\n",
    "    w.grad.zero_()\n",
    "    print(f\"Epoch : {epoch+1} , weights = {w:.3f} , loss = {l:.8f}\")\n",
    "\n",
    "print(f\"Prediction after training : f(5) = {forward(5)}\")"
   ]
  },
  {
   "cell_type": "markdown",
   "id": "195b406f",
   "metadata": {},
   "source": [
    "## Training pipeline in pytorch"
   ]
  },
  {
   "cell_type": "code",
   "execution_count": 52,
   "id": "14fd9db8",
   "metadata": {},
   "outputs": [],
   "source": [
    "import torch\n",
    "import torch.nn as nn"
   ]
  },
  {
   "cell_type": "code",
   "execution_count": 53,
   "id": "91400fc7",
   "metadata": {},
   "outputs": [],
   "source": [
    "x = torch.tensor([[1],[2],[3],[4]],dtype=torch.float32)\n",
    "y = torch.tensor([[2],[4],[6],[8]],dtype=torch.float32)"
   ]
  },
  {
   "cell_type": "code",
   "execution_count": 55,
   "id": "7f42568c",
   "metadata": {},
   "outputs": [
    {
     "name": "stdout",
     "output_type": "stream",
     "text": [
      "4 1\n",
      "Prediction after before : f(5) = -0.09049761295318604\n"
     ]
    }
   ],
   "source": [
    "n_samples,n_feature = x.shape\n",
    "print(n_samples,n_feature)\n",
    "input_size = n_feature\n",
    "output_size = n_feature\n",
    "# model = nn.Linear(input_size,output_size)\n",
    "\n",
    "class LinearRegression(nn.Module):\n",
    "    def __init__(self,input_dim,output_dim):\n",
    "        super(LinearRegression,self).__init__()\n",
    "        #define layers\n",
    "        self.lin = nn.Linear(input_dim,output_dim)\n",
    "        \n",
    "    def forward(self,x):\n",
    "        return self.lin(x)\n",
    "        \n",
    "model = LinearRegression(input_size,output_size)\n",
    "x_test = torch.tensor([5],dtype=torch.float32)\n",
    "print(f\"Prediction after before : f(5) = {model(x_test).item()}\")"
   ]
  },
  {
   "cell_type": "code",
   "execution_count": 56,
   "id": "10668fd4",
   "metadata": {},
   "outputs": [
    {
     "name": "stdout",
     "output_type": "stream",
     "text": [
      "Epoch : 1 , weights = 0.324 , loss = 31.28362274\n",
      "Epoch : 2 , weights = 0.580 , loss = 21.71685791\n",
      "Epoch : 3 , weights = 0.792 , loss = 15.07862473\n",
      "Epoch : 4 , weights = 0.969 , loss = 10.47243500\n",
      "Epoch : 5 , weights = 1.117 , loss = 7.27623940\n",
      "Epoch : 6 , weights = 1.240 , loss = 5.05840969\n",
      "Epoch : 7 , weights = 1.343 , loss = 3.51944685\n",
      "Epoch : 8 , weights = 1.429 , loss = 2.45153666\n",
      "Epoch : 9 , weights = 1.500 , loss = 1.71047997\n",
      "Epoch : 10 , weights = 1.559 , loss = 1.19621944\n",
      "Epoch : 11 , weights = 1.609 , loss = 0.83932954\n",
      "Epoch : 12 , weights = 1.650 , loss = 0.59163576\n",
      "Epoch : 13 , weights = 1.685 , loss = 0.41971070\n",
      "Epoch : 14 , weights = 1.714 , loss = 0.30036122\n",
      "Epoch : 15 , weights = 1.738 , loss = 0.21749207\n",
      "Epoch : 16 , weights = 1.758 , loss = 0.15993662\n",
      "Epoch : 17 , weights = 1.775 , loss = 0.11994640\n",
      "Epoch : 18 , weights = 1.789 , loss = 0.09214424\n",
      "Epoch : 19 , weights = 1.801 , loss = 0.07279961\n",
      "Epoch : 20 , weights = 1.811 , loss = 0.05932378\n",
      "Epoch : 21 , weights = 1.819 , loss = 0.04992061\n",
      "Epoch : 22 , weights = 1.826 , loss = 0.04334351\n",
      "Epoch : 23 , weights = 1.832 , loss = 0.03872785\n",
      "Epoch : 24 , weights = 1.837 , loss = 0.03547335\n",
      "Epoch : 25 , weights = 1.841 , loss = 0.03316365\n",
      "Epoch : 26 , weights = 1.845 , loss = 0.03150999\n",
      "Epoch : 27 , weights = 1.848 , loss = 0.03031164\n",
      "Epoch : 28 , weights = 1.851 , loss = 0.02942966\n",
      "Prediction after before : f(5) = 9.656307220458984\n"
     ]
    }
   ],
   "source": [
    "#training\n",
    "lr = 0.01\n",
    "epochs  = 28\n",
    "loss = nn.MSELoss()\n",
    "optimizer = torch.optim.SGD(model.parameters(),lr = lr)\n",
    "for epoch in range(epochs):\n",
    "    #prediction = forward pass\n",
    "    y_pred = model(x)\n",
    "    l = loss(y,y_pred)\n",
    "    l.backward()\n",
    "    #update weights\n",
    "    optimizer.step()\n",
    "    optimizer.zero_grad()\n",
    "    [w,b] = model.parameters()\n",
    "    print(f\"Epoch : {epoch+1} , weights = {w[0][0].item():.3f} , loss = {l:.8f}\")\n",
    "\n",
    "print(f\"Prediction after before : f(5) = {model(x_test).item()}\")"
   ]
  },
  {
   "cell_type": "code",
   "execution_count": null,
   "id": "f299e829",
   "metadata": {},
   "outputs": [],
   "source": []
  },
  {
   "cell_type": "code",
   "execution_count": null,
   "id": "3f4a3631",
   "metadata": {},
   "outputs": [],
   "source": []
  }
 ],
 "metadata": {
  "kernelspec": {
   "display_name": "Python 3 (ipykernel)",
   "language": "python",
   "name": "python3"
  },
  "language_info": {
   "codemirror_mode": {
    "name": "ipython",
    "version": 3
   },
   "file_extension": ".py",
   "mimetype": "text/x-python",
   "name": "python",
   "nbconvert_exporter": "python",
   "pygments_lexer": "ipython3",
   "version": "3.9.12"
  }
 },
 "nbformat": 4,
 "nbformat_minor": 5
}
