{
 "cells": [
  {
   "cell_type": "code",
   "execution_count": 4,
   "id": "4cf9eada",
   "metadata": {},
   "outputs": [],
   "source": [
    "import torch\n",
    "import torch.nn as nn\n",
    "import numpy as np\n",
    "import matplotlib.pyplot as plt\n",
    "from sklearn import datasets"
   ]
  },
  {
   "cell_type": "code",
   "execution_count": 8,
   "id": "9a825f2e",
   "metadata": {},
   "outputs": [],
   "source": [
    "#prepare datasets\n",
    "X_numpy,y_numpy = datasets.make_regression(n_samples=100,n_features=1,noise=20,random_state=1)\n",
    "X = torch.from_numpy(X_numpy.astype(np.float32))\n",
    "y = torch.from_numpy(y_numpy.astype(np.float32))\n",
    "y = y.view(y.shape[0],1)\n",
    "n_samples,n_features = X.shape"
   ]
  },
  {
   "cell_type": "code",
   "execution_count": 16,
   "id": "18fb2900",
   "metadata": {},
   "outputs": [
    {
     "name": "stdout",
     "output_type": "stream",
     "text": [
      "Epoch : 10 , weights = 12.669 , loss = 4326.47558594\n",
      "Epoch : 20 , weights = 22.938 , loss = 3228.40307617\n",
      "Epoch : 30 , weights = 31.688 , loss = 2434.14599609\n",
      "Epoch : 40 , weights = 39.145 , loss = 1859.01794434\n",
      "Epoch : 50 , weights = 45.502 , loss = 1442.14172363\n",
      "Epoch : 60 , weights = 50.922 , loss = 1139.68994141\n",
      "Epoch : 70 , weights = 55.544 , loss = 920.06622314\n",
      "Epoch : 80 , weights = 59.486 , loss = 760.46063232\n",
      "Epoch : 90 , weights = 62.848 , loss = 644.38671875\n",
      "Epoch : 100 , weights = 65.717 , loss = 559.91448975\n"
     ]
    }
   ],
   "source": [
    "input_size = n_features\n",
    "output_size = n_features\n",
    "model = nn.Linear(input_size,output_size)\n",
    "criterion = nn.MSELoss()\n",
    "lr = 0.01\n",
    "epochs = 100\n",
    "optimizer = torch.optim.SGD(model.parameters(),lr=lr)\n",
    "for epoch in range(epochs):\n",
    "    #forward pass and loss\n",
    "    y_pred = model(X)\n",
    "    loss = criterion(y_pred,y)\n",
    "    #backward pass\n",
    "    loss.backward()\n",
    "    #update\n",
    "    optimizer.step()\n",
    "    optimizer.zero_grad()\n",
    "    [w,b] = model.parameters()\n",
    "    if (epoch+1) % 10 == 0:\n",
    "        print(f\"Epoch : {epoch+1} , weights = {w[0][0].item():.3f} , loss = {loss:.8f}\")\n",
    "        "
   ]
  },
  {
   "cell_type": "code",
   "execution_count": 19,
   "id": "6c68cddd",
   "metadata": {},
   "outputs": [
    {
     "data": {
      "image/png": "[encoded data removed]",
      "text/plain": [
       "<Figure size 432x288 with 1 Axes>"
      ]
     },
     "metadata": {
      "needs_background": "light"
     },
     "output_type": "display_data"
    }
   ],
   "source": [
    "predicted = model(X).detach().numpy()\n",
    "plt.plot(X_numpy,y_numpy,'ro')\n",
    "plt.plot(X_numpy,predicted,'b')\n",
    "plt.show()"
   ]
  },
  {
   "cell_type": "code",
   "execution_count": null,
   "id": "c628d001",
   "metadata": {},
   "outputs": [],
   "source": []
  }
 ],
 "metadata": {
  "kernelspec": {
   "display_name": "Python 3 (ipykernel)",
   "language": "python",
   "name": "python3"
  },
  "language_info": {
   "codemirror_mode": {
    "name": "ipython",
    "version": 3
   },
   "file_extension": ".py",
   "mimetype": "text/x-python",
   "name": "python",
   "nbconvert_exporter": "python",
   "pygments_lexer": "ipython3",
   "version": "3.9.12"
  }
 },
 "nbformat": 4,
 "nbformat_minor": 5
}
